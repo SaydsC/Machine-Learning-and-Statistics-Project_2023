{
 "cells": [
  {
   "cell_type": "markdown",
   "metadata": {},
   "source": [
    "# Project\n",
    "\n",
    "Machine Learning and Statistics \n",
    "\n",
    "Winter 2023/2024\n",
    "\n",
    "By Sadie Concannon\n",
    "G00411297\n",
    "\n",
    "****\n",
    "\n",
    "### Project Outline\n",
    "\n",
    "1. The project is to create a notebook exploring classification algorithms applied on the iris flower data set associated with Ronald A Fisher.\n",
    "\n",
    "2. In your notebook, you should first explain what supervised learning is and then explain what classification algorithms are.\n",
    "\n",
    "3.  Describe at least one common classification algorithm and implement it using the scikit-learn Python library.\n",
    "\n",
    "4.  Throughout your notebook, use appropriate plots, mathematical notation, and diagrams to explain the relevant concepts.\n",
    "\n",
    "****"
   ]
  },
  {
   "cell_type": "code",
   "execution_count": 1,
   "metadata": {},
   "outputs": [],
   "source": [
    "#Extensions\n"
   ]
  },
  {
   "cell_type": "markdown",
   "metadata": {},
   "source": [
    "## Exploring classification algoritms and applying on Fishers Iris data set \n",
    "****\n",
    "\n",
    "#### 1. What is Supervised Learning?\n",
    "\n",
    "Machine learning is an arm of artificial intelligence and computer science which focuses on building computer systems that learn from data and use data and algorithms to imitate the way that humans learn, gradually improving its accuracy. Machine learning is already an important part of how modern organisation and services function. Whether in social media platforms, healthcare, or finance, machine learning models are deployed in a variety of settings. But the steps needed to train and deploy a model will differ depending on the task at hand and the data that’s available. Supervised learning is a subcategory of machine learning and artificial intelligence. It is defined by its use of labelled datasets to train algorithms to classify data or predict outcomes accurately. As input data is fed into the model, it adjusts its weights until the model has been fitted appropriately, which occurs as part of the cross validation process $ ^{1}$. In supervised learning the input objects (for example, a vector of predictor variables) and a desired output value (also known as human-labeled supervisory signal) train a model to predict the outcomes. Supervised machine learning is generally used to classify data or make predictions, whereas unsupervised learning is generally used to understand relationships within datasets. Supervised machine learning is much more resource-intensive because of the need for labelled data $ ^{2}.\n",
    "\n",
    "Supervised learning can be completed through the use of algorithms like naive Bayes and decision trees, or tasks such as regression and classification. The use of various algorithms determine the types of supervised learning and the tasks that supervised learning is capable of completing. \n",
    "\n",
    "__Types of Supervised Learning__\n",
    "1. __Regression algorithm__  produce a single, probabilistic output value that is determined based on the degree of correlation between the input variables.\n",
    "2. __Classification algorithms__ separate and group data into different classes.\n",
    "3. __Naive Bayesian models__ are a type of classification for large finite data sets into parent nodes and independent children nodes.\n",
    "4. __Decision trees__ contain conditional control statements that include decisions and probable consequences in order to produce outputs that label unforeseen data.\n",
    "5. __Random forest models__ contain multitudes of decision trees and output classifications of individual trees.\n",
    "6. __Neural networks__ are designed to cluster raw inputs, recognize patterns or interpret sensory data $ ^{3}$.\n",
    "\n",
    "A classification algorithm is a method used in data analysis and machine learning to categorise data into different classes or categories based on input features. Popular classification algoritms include logisitc regression, decision trees, random forests, support vector machines (SVM) and neural networks as listed above. Classification algoritms work by learning patterns and relationships in labelled data to make predictions or assign labels to new, unseen data points. The process is carried out as follows:\n",
    "\n",
    "1. __Data Collection__: Gather labelled data where each sample is associated with a known class or category. For example, in email classification, labelled data could be the emails marked as \"junk\" or \"not junk\".\n",
    "2. __Feature Selection__: Identify relevant attributes from the data that help distinguish between different classes. These features can any measurable attributes.\n",
    "3. __Training__: The algoritm uses the labelled data to learn the relationship between the input features and their corresponding classes. It adjusts its internal parameters or model based on this training data.\n",
    "4. __Prediction__: Once trained, the algorithm applies the learned patterns to new, unlabelled data. It uses the identified relationships between features and classes to predict or assign the appropriate class labels to the new instances.\n",
    "5. __Evaluation__: The models performance is evaluated by comparing its predictions with the true labels in a separate validation dataset. Metrics like accuracy, precision, recall and F1 score are commonly used to assess the models performance.\n",
    "\n",
    "Different algorithms employ various mathematical techniques and decision making processes to classify data points accurately. For example, decision trees make decisions based on feature thresholds, while SVM find the optimal boundary between classes in a higher dimensional space $ ^{4}$. The ultimate goal is to create a model that generalises well to accurately classify unseen data.\n",
    "\n",
    "****\n",
    "\n",
    "#### 2. Common Classification Algorithms\n",
    "\n",
    "Common classification algorithms used in machine learning and data analysis include:\n",
    "1. Logistic Regression: This approach models the probability of a binary outcome based on input features.\n",
    "2. Decision Trees: Using a hierarchial structure decisions are made by splitting the data set into smaller subsets based on feature values.\n",
    "3. Random Forest: This method constructs multiple decision trees and merges their predictions to improve accuracy and reduce overfitting.\n",
    "4. Support Vector Machines (SVM): It finds the optimal hyperplane that best separates classes in a high dimensional space.\n",
    "5. K-Nearest Neighbors (KNN): It classifies new data points based on the majority class of their closest neighbors in the feature space.\n",
    "6. Naive Bayes: A probabilistic classifier based on Baye's theorem with strong independence assumptions between features.\n",
    "7. Neural Networks: Deep learning models consisting of interconnected nodes orgainsed in layers used for complex classification tasks.\n",
    "\n",
    "Each classification algorithm has its strengths, weaknesses, and ideal use cases depending on the nature of the data and the specific problem at hand. Choosing the right algorithm often involves experimentation and consideration of factors like data set size, dimensionality, and the need for interpretability $ ^{5}$.\n"
   ]
  },
  {
   "cell_type": "markdown",
   "metadata": {},
   "source": [
    "#### References\n",
    "*****\n",
    "1. https://www.ibm.com/topics/supervised-learning\n",
    "2. https://www.seldon.io/supervised-vs-unsupervised-learning-explained#:~:text=Supervised%20machine%20learning%20is%20generally,the%20need%20for%20labelled%20data.\n",
    "3. https://builtin.com/machine-learning/supervised-learning\n",
    "4. https://www.spiceworks.com/tech/big-data/articles/what-is-support-vector-machine/\n",
    "5. https://medium.com/@brandon93.w/classification-algorithms-knn-naive-bayes-and-logistic-regression-515bdb085047"
   ]
  }
 ],
 "metadata": {
  "kernelspec": {
   "display_name": "base",
   "language": "python",
   "name": "python3"
  },
  "language_info": {
   "codemirror_mode": {
    "name": "ipython",
    "version": 3
   },
   "file_extension": ".py",
   "mimetype": "text/x-python",
   "name": "python",
   "nbconvert_exporter": "python",
   "pygments_lexer": "ipython3",
   "version": "3.9.13"
  }
 },
 "nbformat": 4,
 "nbformat_minor": 2
}
