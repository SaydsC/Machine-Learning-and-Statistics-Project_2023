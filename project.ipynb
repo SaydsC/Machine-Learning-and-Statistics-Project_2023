{
 "cells": [
  {
   "cell_type": "markdown",
   "metadata": {},
   "source": [
    "# Project\n",
    "\n",
    "Machine Learning and Statistics \n",
    "\n",
    "Winter 2023/2024\n",
    "\n",
    "By Sadie Concannon\n",
    "G00411297\n",
    "\n",
    "****\n",
    "\n",
    "### Project Outline\n",
    "\n",
    "1. The project is to create a notebook exploring classification algorithms applied on the iris flower data set associated with Ronald A Fisher.\n",
    "\n",
    "2. In your notebook, you should first explain what supervised learning is and then explain what classification algorithms are.\n",
    "\n",
    "3.  Describe at least one common classification algorithm and implement it using the scikit-learn Python library.\n",
    "\n",
    "4.  Throughout your notebook, use appropriate plots, mathematical notation, and diagrams to explain the relevant concepts.\n",
    "\n",
    "****"
   ]
  },
  {
   "cell_type": "markdown",
   "metadata": {},
   "source": [
    "## Exploring classification algoritms and applying on Fishers Iris data set \n",
    "****\n",
    "\n",
    "#### 1. What is Supervised Learning?\n",
    "\n",
    "Supervised learning is a subcategory of machine learning and artificial intelligence. It is defined by its use of labelled datasets to train\n",
    "algorithms to classify data or predict outcomes accurately. As inout data is fed into the model, it adjusts its weights until the model \n",
    "has been fitted appropriately, which occurs as part of the cross validation process $ ^{1}$.\n",
    "\n",
    "Supervised learning can be completed through the use of algorithms like naive Bayes and decision trees, or tasks such as regression and classification. The use of various algorithms determine the types of supervised learning and the tasks that supervised learning is capable of completing. \n",
    "\n",
    "__Types of Supervised Learning__\n",
    "1. __Regression algorithm__  produce a single, probabilistic output value that is determined based on the degree of correlation between the input variables.\n",
    "2. __Classification algorithms__ separate and group data into different classes.\n",
    "3. __Naive Bayesian models__ are a type of classification for large finite data sets into parent nodes and independent children nodes.\n",
    "4. __Decision trees__ contain conditional control statements that include decisions and probable consequences in order to produce outputs that label unforeseen data.\n",
    "5. __Random forest models__ contain multitudes of decision trees and output classifications of individual trees.\n",
    "6. __Neural networks__ are designed to cluster raw inputs, recognize patterns or interpret sensory data.\n",
    "\n"
   ]
  },
  {
   "cell_type": "markdown",
   "metadata": {},
   "source": [
    "#### References\n",
    "*****\n",
    "1. https://www.ibm.com/topics/supervised-learning\n",
    "2. "
   ]
  }
 ],
 "metadata": {
  "language_info": {
   "name": "python"
  }
 },
 "nbformat": 4,
 "nbformat_minor": 2
}
