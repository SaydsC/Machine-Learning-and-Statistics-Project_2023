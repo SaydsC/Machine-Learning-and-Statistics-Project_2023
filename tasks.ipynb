{
 "cells": [
  {
   "cell_type": "markdown",
   "metadata": {},
   "source": [
    "# Tasks\n",
    "\n",
    "Machine Learning and Statistics\n",
    "\n",
    "Winter 2023/2024\n",
    "\n",
    "By Sadie Concannon\n",
    "\n",
    "***"
   ]
  },
  {
   "cell_type": "markdown",
   "metadata": {},
   "source": [
    "## Task 1 - Newton's Method to calculate square root\n",
    "***\n",
    "\n",
    "> Square roots are difficult to calculate. In Python, you typically use the power operator (a double asterisk) or a package such as `math`. In this task, you should write a function `sqrt(x)` to approximate the square root of a floating point number x without\n",
    "using the power operator or a package.\n",
    "\n",
    "> Rather, you should use Newton’s method. Start with an initial guess for the square root called $z_0$. You then repeatedly\n",
    "improve it using the following formula, until the difference between some previous guess $z_i$ and the next $z_{i+1}$ is less than some threshold, say 0.01.\n",
    "\n",
    "$$ z_{i+1} = z_i − \\frac{z_i × z_i − x}{2z_i} $$"
   ]
  },
  {
   "cell_type": "code",
   "execution_count": 166,
   "metadata": {},
   "outputs": [],
   "source": [
    "#As per notes in lecture\n",
    "\n",
    "def sqrt(x):\n",
    "    # Starting with an initial guess for the square root.\n",
    "    z = x / 4.0\n",
    "\n",
    "    # Loop as this is an iterative approach until we are accurate within 0.01.\n",
    "    #while (z could be improved):\n",
    "    for i in range (100):\n",
    "        # Newtons method for a better approximation\n",
    "        z = z - (((z * z) - x) / (2 * z))\n",
    "\n",
    "    # z should now be a good approximation for the square root\n",
    "    return z"
   ]
  },
  {
   "cell_type": "code",
   "execution_count": 167,
   "metadata": {},
   "outputs": [
    {
     "data": {
      "text/plain": [
       "1.7320508075688774"
      ]
     },
     "execution_count": 167,
     "metadata": {},
     "output_type": "execute_result"
    }
   ],
   "source": [
    "# Test the function on 3.\n",
    "sqrt(3)"
   ]
  },
  {
   "cell_type": "code",
   "execution_count": 168,
   "metadata": {},
   "outputs": [
    {
     "data": {
      "text/plain": [
       "1.7320508075688772"
      ]
     },
     "execution_count": 168,
     "metadata": {},
     "output_type": "execute_result"
    }
   ],
   "source": [
    "# Using another method\n",
    "\n",
    "# Writing a function that includes parameters\n",
    "# x = the number for which to find the square root\n",
    "# z = initial guess (set to 1.0)\n",
    "# tol = the desired accuracy of the approximation (set to 10 decimal places)\n",
    "# max_iterations = max number of iterations (set to 100)\n",
    "\n",
    "def sqrt2(x, z=1, tol=1e-10, max_iteratons=100):\n",
    "    iteration = 0\n",
    "             \n",
    "    while abs(z*z - x)>tol and iteration < max_iteratons:\n",
    "        z = 0.5 * (z + x / z) #re arrange the formula\n",
    "        iteration += 1\n",
    "     \n",
    "    return z\n",
    "\n",
    "x=3\n",
    "result = sqrt2(x)\n",
    "\n",
    "result"
   ]
  },
  {
   "cell_type": "code",
   "execution_count": 169,
   "metadata": {},
   "outputs": [
    {
     "data": {
      "text/plain": [
       "1.7320508075688772"
      ]
     },
     "execution_count": 169,
     "metadata": {},
     "output_type": "execute_result"
    }
   ],
   "source": [
    "#Compare with Python\n",
    "3**0.5  "
   ]
  },
  {
   "cell_type": "markdown",
   "metadata": {},
   "source": [
    "The results match. The sqrt2 function is closer aligned to Python. The Newton-Raphson method (also known as Newton's method) is a way to quickly find a good approximation for the root of a real-valued function $f(x)=0$. It uses the idea that a continuous and differentiable function can be approximated by a straight line tangent to it.\n"
   ]
  },
  {
   "cell_type": "markdown",
   "metadata": {},
   "source": [
    "#### Notes\n",
    "\n",
    "***\n",
    "\n",
    "1. The calculation $z^2 - x$ is exactly zero when $z$ is the square root of $x$. It is greater than zero when $z$ is too big. It is less than zero when $z$ is too small. Thus $(z^2 - x)^2$ is a good candidate for a cost function.\n",
    "\n",
    "2. The derivative of the numerator $z^2 - x$ with respect to $z$ is $2z$. That is the denominator of the fraction in the formula from the question.\n",
    "\n",
    "***"
   ]
  },
  {
   "cell_type": "markdown",
   "metadata": {},
   "source": [
    "## Task 2 - Chi Square Test\n",
    "***\n",
    "\n",
    "Consider the below contingency table based on a survey asking respondents whether they prefer coffee or tea and whether they\n",
    "prefer plain or chocolate biscuits. Use `scipy.stats` to perform a `chi-squared test` to see whether there is any evidence of an association between drink preference and biscuit preference in this instance.\n",
    "<table style=\"width:100%\">\n",
    "    <tr>\n",
    "        <th colspan =\"2\" rowspan=\"2\">&nbsp;</th>\n",
    "        <th colspan=\"2\">Biscuit</th>\n",
    "    </tr>\n",
    "    <tr>\n",
    "        <td><i>Chocolate</i></td>\n",
    "        <td><i>Plain</i></td>\n",
    "    </tr>\n",
    "    <tr>\n",
    "        <th rowspan =\"2\">Drink</th>\n",
    "        <td><i>Coffee</i></td>\n",
    "        <td>43 </td>\n",
    "        <td>57 </td>\n",
    "    </tr>\n",
    "    <tr>\n",
    "        <td><i>Tea</i></td>\n",
    "        <td>56 </td>\n",
    "        <td>45 </td>\n",
    "    </tr>\n",
    "</table>\n",
    "\n",
    " \n"
   ]
  },
  {
   "cell_type": "markdown",
   "metadata": {},
   "source": [
    "#### 1. Prepare the data frame"
   ]
  },
  {
   "cell_type": "code",
   "execution_count": 170,
   "metadata": {},
   "outputs": [],
   "source": [
    "# Chi-square test is a test of independence of variables in a contingency table \n",
    "# and is used to discover if there is a relationship between two categorical variables.\n",
    "# https://docs.scipy.org/doc/scipy/reference/generated/scipy.stats.chi2_contingency.html\n",
    "\n",
    "# Data Frames\n",
    "import pandas as pd\n",
    "import numpy as np\n",
    "\n",
    "# Shuffle\n",
    "import random\n",
    "\n",
    "# Statistics\n",
    "import scipy.stats as ss\n",
    "from scipy.stats.contingency import crosstab"
   ]
  },
  {
   "cell_type": "code",
   "execution_count": 171,
   "metadata": {},
   "outputs": [],
   "source": [
    "# creating the raw data, followed method in lecture\n",
    "coffee_chocolate = [['coffee','chocolate']]*43\n",
    "coffee_plain = [['coffee','plain']]*57\n",
    "tea_chocolate = [['tea','chocolate']]*56\n",
    "tea_plain = [['tea','plain']]*45\n",
    "\n",
    "raw_data = coffee_chocolate + coffee_plain + tea_chocolate + tea_plain\n",
    "random.shuffle(raw_data)\n",
    "\n",
    "drink, biscuit = list(zip(*raw_data))\n"
   ]
  },
  {
   "cell_type": "code",
   "execution_count": 172,
   "metadata": {},
   "outputs": [
    {
     "data": {
      "text/html": [
       "<div>\n",
       "<style scoped>\n",
       "    .dataframe tbody tr th:only-of-type {\n",
       "        vertical-align: middle;\n",
       "    }\n",
       "\n",
       "    .dataframe tbody tr th {\n",
       "        vertical-align: top;\n",
       "    }\n",
       "\n",
       "    .dataframe thead th {\n",
       "        text-align: right;\n",
       "    }\n",
       "</style>\n",
       "<table border=\"1\" class=\"dataframe\">\n",
       "  <thead>\n",
       "    <tr style=\"text-align: right;\">\n",
       "      <th></th>\n",
       "      <th>drink</th>\n",
       "      <th>biscuit</th>\n",
       "    </tr>\n",
       "  </thead>\n",
       "  <tbody>\n",
       "    <tr>\n",
       "      <th>0</th>\n",
       "      <td>tea</td>\n",
       "      <td>chocolate</td>\n",
       "    </tr>\n",
       "    <tr>\n",
       "      <th>1</th>\n",
       "      <td>coffee</td>\n",
       "      <td>chocolate</td>\n",
       "    </tr>\n",
       "    <tr>\n",
       "      <th>2</th>\n",
       "      <td>coffee</td>\n",
       "      <td>plain</td>\n",
       "    </tr>\n",
       "    <tr>\n",
       "      <th>3</th>\n",
       "      <td>coffee</td>\n",
       "      <td>chocolate</td>\n",
       "    </tr>\n",
       "    <tr>\n",
       "      <th>4</th>\n",
       "      <td>coffee</td>\n",
       "      <td>chocolate</td>\n",
       "    </tr>\n",
       "    <tr>\n",
       "      <th>...</th>\n",
       "      <td>...</td>\n",
       "      <td>...</td>\n",
       "    </tr>\n",
       "    <tr>\n",
       "      <th>196</th>\n",
       "      <td>tea</td>\n",
       "      <td>plain</td>\n",
       "    </tr>\n",
       "    <tr>\n",
       "      <th>197</th>\n",
       "      <td>tea</td>\n",
       "      <td>plain</td>\n",
       "    </tr>\n",
       "    <tr>\n",
       "      <th>198</th>\n",
       "      <td>coffee</td>\n",
       "      <td>chocolate</td>\n",
       "    </tr>\n",
       "    <tr>\n",
       "      <th>199</th>\n",
       "      <td>tea</td>\n",
       "      <td>chocolate</td>\n",
       "    </tr>\n",
       "    <tr>\n",
       "      <th>200</th>\n",
       "      <td>tea</td>\n",
       "      <td>chocolate</td>\n",
       "    </tr>\n",
       "  </tbody>\n",
       "</table>\n",
       "<p>201 rows × 2 columns</p>\n",
       "</div>"
      ],
      "text/plain": [
       "      drink    biscuit\n",
       "0       tea  chocolate\n",
       "1    coffee  chocolate\n",
       "2    coffee      plain\n",
       "3    coffee  chocolate\n",
       "4    coffee  chocolate\n",
       "..      ...        ...\n",
       "196     tea      plain\n",
       "197     tea      plain\n",
       "198  coffee  chocolate\n",
       "199     tea  chocolate\n",
       "200     tea  chocolate\n",
       "\n",
       "[201 rows x 2 columns]"
      ]
     },
     "execution_count": 172,
     "metadata": {},
     "output_type": "execute_result"
    }
   ],
   "source": [
    "#Create the data frame\n",
    "df = pd.DataFrame({'drink': drink, 'biscuit': biscuit})\n",
    "\n",
    "df"
   ]
  },
  {
   "cell_type": "markdown",
   "metadata": {},
   "source": [
    "#### 2. Chi Square Contingency Table\n",
    "\n",
    "##### Present the data set and perform the statistics"
   ]
  },
  {
   "cell_type": "code",
   "execution_count": 173,
   "metadata": {},
   "outputs": [
    {
     "data": {
      "text/plain": [
       "((array(['coffee', 'tea'], dtype=object),\n",
       "  array(['chocolate', 'plain'], dtype=object)),\n",
       " array([[43, 57],\n",
       "        [56, 45]]))"
      ]
     },
     "execution_count": 173,
     "metadata": {},
     "output_type": "execute_result"
    }
   ],
   "source": [
    "# Perform Cross Tabulation contingency\n",
    "cross = ss.contingency.crosstab(df['drink'],df['biscuit'])\n",
    "\n",
    "cross\n",
    "#This result is just counting the unique values in the array"
   ]
  },
  {
   "cell_type": "code",
   "execution_count": 174,
   "metadata": {},
   "outputs": [
    {
     "data": {
      "text/html": [
       "<div>\n",
       "<style scoped>\n",
       "    .dataframe tbody tr th:only-of-type {\n",
       "        vertical-align: middle;\n",
       "    }\n",
       "\n",
       "    .dataframe tbody tr th {\n",
       "        vertical-align: top;\n",
       "    }\n",
       "\n",
       "    .dataframe thead th {\n",
       "        text-align: right;\n",
       "    }\n",
       "</style>\n",
       "<table border=\"1\" class=\"dataframe\">\n",
       "  <thead>\n",
       "    <tr style=\"text-align: right;\">\n",
       "      <th>biscuit</th>\n",
       "      <th>chocolate</th>\n",
       "      <th>plain</th>\n",
       "    </tr>\n",
       "    <tr>\n",
       "      <th>drink</th>\n",
       "      <th></th>\n",
       "      <th></th>\n",
       "    </tr>\n",
       "  </thead>\n",
       "  <tbody>\n",
       "    <tr>\n",
       "      <th>coffee</th>\n",
       "      <td>43</td>\n",
       "      <td>57</td>\n",
       "    </tr>\n",
       "    <tr>\n",
       "      <th>tea</th>\n",
       "      <td>56</td>\n",
       "      <td>45</td>\n",
       "    </tr>\n",
       "  </tbody>\n",
       "</table>\n",
       "</div>"
      ],
      "text/plain": [
       "biscuit  chocolate  plain\n",
       "drink                    \n",
       "coffee          43     57\n",
       "tea             56     45"
      ]
     },
     "execution_count": 174,
     "metadata": {},
     "output_type": "execute_result"
    }
   ],
   "source": [
    "# To run the Chi-Square Test, the easiest way is to convert the data into a contingency table with frequencies.\n",
    "# https://medium.com/swlh/how-to-run-chi-square-test-in-python-4e9f5d10249d\n",
    "\n",
    "crosstab= pd.crosstab(df['drink'], df['biscuit']) \n",
    "crosstab"
   ]
  },
  {
   "cell_type": "code",
   "execution_count": 175,
   "metadata": {},
   "outputs": [
    {
     "data": {
      "text/html": [
       "<div>\n",
       "<style scoped>\n",
       "    .dataframe tbody tr th:only-of-type {\n",
       "        vertical-align: middle;\n",
       "    }\n",
       "\n",
       "    .dataframe tbody tr th {\n",
       "        vertical-align: top;\n",
       "    }\n",
       "\n",
       "    .dataframe thead th {\n",
       "        text-align: right;\n",
       "    }\n",
       "</style>\n",
       "<table border=\"1\" class=\"dataframe\">\n",
       "  <thead>\n",
       "    <tr style=\"text-align: right;\">\n",
       "      <th>biscuit</th>\n",
       "      <th>chocolate</th>\n",
       "      <th>plain</th>\n",
       "    </tr>\n",
       "    <tr>\n",
       "      <th>drink</th>\n",
       "      <th></th>\n",
       "      <th></th>\n",
       "    </tr>\n",
       "  </thead>\n",
       "  <tbody>\n",
       "    <tr>\n",
       "      <th>coffee</th>\n",
       "      <td>0.213930</td>\n",
       "      <td>0.283582</td>\n",
       "    </tr>\n",
       "    <tr>\n",
       "      <th>tea</th>\n",
       "      <td>0.278607</td>\n",
       "      <td>0.223881</td>\n",
       "    </tr>\n",
       "  </tbody>\n",
       "</table>\n",
       "</div>"
      ],
      "text/plain": [
       "biscuit  chocolate     plain\n",
       "drink                       \n",
       "coffee    0.213930  0.283582\n",
       "tea       0.278607  0.223881"
      ]
     },
     "execution_count": 175,
     "metadata": {},
     "output_type": "execute_result"
    }
   ],
   "source": [
    "# To get table by percentage preference\n",
    "contigency_pct = pd.crosstab(df['drink'], df['biscuit'], normalize='all')\n",
    "contigency_pct"
   ]
  },
  {
   "cell_type": "code",
   "execution_count": 176,
   "metadata": {},
   "outputs": [
    {
     "data": {
      "text/plain": [
       "<bound method DataFrame.count of biscuit  chocolate  plain\n",
       "drink                    \n",
       "coffee          43     57\n",
       "tea             56     45>"
      ]
     },
     "execution_count": 176,
     "metadata": {},
     "output_type": "execute_result"
    }
   ],
   "source": [
    "crosstab.count"
   ]
  },
  {
   "cell_type": "markdown",
   "metadata": {},
   "source": [
    "##### Perform the test for independence"
   ]
  },
  {
   "cell_type": "code",
   "execution_count": 177,
   "metadata": {},
   "outputs": [
    {
     "data": {
      "text/plain": [
       "(3.113937364324669,\n",
       " 0.07762509678333357,\n",
       " 1,\n",
       " array([[49.25373134, 50.74626866],\n",
       "        [49.74626866, 51.25373134]]))"
      ]
     },
     "execution_count": 177,
     "metadata": {},
     "output_type": "execute_result"
    }
   ],
   "source": [
    "#using scipy stats do Chi2 Test for Independence\n",
    "chi2, p, dof, expected = ss.chi2_contingency(crosstab, correction=False)\n",
    "\n",
    "chi2, p, dof, expected\n"
   ]
  },
  {
   "cell_type": "code",
   "execution_count": 178,
   "metadata": {},
   "outputs": [
    {
     "data": {
      "text/plain": [
       "array([[49.25373134, 50.74626866],\n",
       "       [49.74626866, 51.25373134]])"
      ]
     },
     "execution_count": 178,
     "metadata": {},
     "output_type": "execute_result"
    }
   ],
   "source": [
    "chi2, p, dof, expected = ss.chi2_contingency(crosstab, correction=False)\n",
    "expected"
   ]
  },
  {
   "cell_type": "markdown",
   "metadata": {},
   "source": [
    "##### Calculating the Chi2"
   ]
  },
  {
   "cell_type": "code",
   "execution_count": 179,
   "metadata": {},
   "outputs": [
    {
     "data": {
      "text/plain": [
       "3.113937364324669"
      ]
     },
     "execution_count": 179,
     "metadata": {},
     "output_type": "execute_result"
    }
   ],
   "source": [
    "chi2"
   ]
  },
  {
   "cell_type": "code",
   "execution_count": 180,
   "metadata": {},
   "outputs": [
    {
     "data": {
      "text/plain": [
       "(-6.253731340000002, 6.253731340000002, 6.253731340000002, -6.253731340000002)"
      ]
     },
     "execution_count": 180,
     "metadata": {},
     "output_type": "execute_result"
    }
   ],
   "source": [
    "#Calculate the difference from expected frequency\n",
    "CC=43-49.25373134\n",
    "CP=57-50.74626866\n",
    "TC=56-49.74626866\n",
    "TP=45-51.25373134\n",
    "\n",
    "CC, CP, TC, TP"
   ]
  },
  {
   "cell_type": "code",
   "execution_count": 181,
   "metadata": {},
   "outputs": [
    {
     "data": {
      "text/plain": [
       "3.1139373610547243"
      ]
     },
     "execution_count": 181,
     "metadata": {},
     "output_type": "execute_result"
    }
   ],
   "source": [
    "CC2=(CC**2)/49.25373134\n",
    "CP2=(CP**2)/50.74626866\n",
    "TC2=(TC**2)/49.74626866\n",
    "TP2=(TP**2)/51.25373134\n",
    "\n",
    "CHI2Hand=(CC2 + CP2 + TC2 + TP2)\n",
    "CHI2Hand"
   ]
  },
  {
   "cell_type": "code",
   "execution_count": 182,
   "metadata": {},
   "outputs": [
    {
     "data": {
      "text/plain": [
       "3.269944759409782e-09"
      ]
     },
     "execution_count": 182,
     "metadata": {},
     "output_type": "execute_result"
    }
   ],
   "source": [
    "Check = chi2-CHI2Hand\n",
    "Check"
   ]
  },
  {
   "cell_type": "markdown",
   "metadata": {},
   "source": [
    "#### 3. Interpret the Results\n",
    "The first value (3.114) is the Chi-square value, and then the P-Value is 0.07762509678333357 or 0.078 rounded to 3 decimal places, then comes the degrees of freedom (1), and lastly it outputs the expected frequencies as an array. If the significance level is 10% and the p-value is lower than this amount, this means that we can accept the null hypothesis with 90% confidence so we can take any p-value <0.1%. We can reject the null hypothesis as the p-value is less than 0.08 and therefore determine that there is no direct correlation between a preference to either a chocolate or plain biscuit dependent on whether the consumer has tea or coffee as their drink of choice. Since all the expected frequency are all $\\frac{+}{}6.25$ the results can be relied upon.\n",
    "\n",
    "\n",
    "*https://www.docpid.com/calculators/p-value#*"
   ]
  },
  {
   "cell_type": "markdown",
   "metadata": {},
   "source": [
    "## Task 3 - T Test\n",
    "***\n",
    "\n",
    "Perform a `t-test` on the famous penguins data set to investigate whether there is evidence of a significant difference in the body\n",
    "mass of male and female gentoo penguins."
   ]
  },
  {
   "cell_type": "code",
   "execution_count": 183,
   "metadata": {},
   "outputs": [],
   "source": [
    "#Use seaborn library to access the penguins data set.\n",
    "import seaborn as sns\n",
    "from scipy.stats import ttest_ind\n",
    "\n",
    "#Loading the penguins data set.\n",
    "penguins = sns.load_dataset('penguins')\n",
    "\n",
    "#Filter for Gentoo penguins.\n",
    "gentoo_data=penguins[penguins['species'] == 'Gentoo']\n",
    "\n",
    "#Separate the data for the male and female Gentoo penguins.\n",
    "male_data=gentoo_data[gentoo_data['sex'] == 'Male']['body_mass_g']\n",
    "female_data=gentoo_data[gentoo_data['sex'] == 'Female']['body_mass_g']\n"
   ]
  },
  {
   "cell_type": "code",
   "execution_count": 184,
   "metadata": {},
   "outputs": [
    {
     "data": {
      "text/plain": [
       "'T-statistic:14.761368414543291 P-value: 1.8677596749117468e-28'"
      ]
     },
     "execution_count": 184,
     "metadata": {},
     "output_type": "execute_result"
    }
   ],
   "source": [
    "#Perform t-test\n",
    "\n",
    "t_stat, p_value = ttest_ind(male_data, female_data, equal_var=False)\n",
    "\n",
    "#Display results\n",
    "(f'T-statistic:{t_stat} P-value: {p_value}')\n"
   ]
  },
  {
   "cell_type": "code",
   "execution_count": 185,
   "metadata": {},
   "outputs": [
    {
     "name": "stdout",
     "output_type": "stream",
     "text": [
      "There is significant evidence of a difference in body mass between male and female Gentoo penguins.\n"
     ]
    }
   ],
   "source": [
    "#Interpret the results\n",
    "if p_value < 0.1:\n",
    "    print('There is significant evidence of a difference in body mass between male and female Gentoo penguins.')\n",
    "else: \n",
    "    print('There is no significant evidence of a difference in body mass between male and female Gentoo penguins.')"
   ]
  },
  {
   "cell_type": "markdown",
   "metadata": {},
   "source": [
    "#### Interpret the results\n",
    "\n",
    "The t-test results provide information on whether there is a statistically significant difference in the body mass between male and female Gentoo pengiuns. The t-statistic measures the size of the difference relative to the variation in the data, and the p-value indicates the probability of observing such a difference by chance. \n",
    "*https://www.learntocalculate.com/calculate-p-value-from-t/*\n",
    "\n",
    "Given the low value of the p-value it suggest we can reject the null hypothesis. If the significance level is 10% and the p-value is lower than this amount, this means that we can accept the null hypothesis with 90% confidence so we can take any p-value <0.1%. In this context rejecting the null hypothesis means there is a significant difference in body mass between male and female Gentoo penguins.\n",
    "*https://www.docpid.com/calculators/p-value*\n",
    "\n",
    "However, the t-test doesn't provide information about the difference i.e. which group is heavier - the males or the females? We would need to carry out further statistical analysis to gain insights into the distribution of the body mass of each group.\n",
    "\n",
    "\n",
    "\n",
    "\n"
   ]
  },
  {
   "cell_type": "markdown",
   "metadata": {},
   "source": [
    "#### Further Analysis\n",
    "****"
   ]
  },
  {
   "cell_type": "code",
   "execution_count": 186,
   "metadata": {},
   "outputs": [],
   "source": [
    "#Descriptive statistics\n",
    "\n",
    "male_stats = male_data.describe()\n",
    "female_stats = female_data.describe()\n",
    "\n"
   ]
  },
  {
   "cell_type": "code",
   "execution_count": 187,
   "metadata": {},
   "outputs": [
    {
     "data": {
      "text/plain": [
       "count      61.000000\n",
       "mean     5484.836066\n",
       "std       313.158596\n",
       "min      4750.000000\n",
       "25%      5300.000000\n",
       "50%      5500.000000\n",
       "75%      5700.000000\n",
       "max      6300.000000\n",
       "Name: body_mass_g, dtype: float64"
      ]
     },
     "execution_count": 187,
     "metadata": {},
     "output_type": "execute_result"
    }
   ],
   "source": [
    "male_stats"
   ]
  },
  {
   "cell_type": "code",
   "execution_count": 188,
   "metadata": {},
   "outputs": [
    {
     "data": {
      "text/plain": [
       "count      58.000000\n",
       "mean     4679.741379\n",
       "std       281.578294\n",
       "min      3950.000000\n",
       "25%      4462.500000\n",
       "50%      4700.000000\n",
       "75%      4875.000000\n",
       "max      5200.000000\n",
       "Name: body_mass_g, dtype: float64"
      ]
     },
     "execution_count": 188,
     "metadata": {},
     "output_type": "execute_result"
    }
   ],
   "source": [
    "female_stats"
   ]
  },
  {
   "cell_type": "code",
   "execution_count": 189,
   "metadata": {},
   "outputs": [
    {
     "data": {
      "image/png": "[encoded data removed]",
      "text/plain": [
       "<Figure size 1000x600 with 1 Axes>"
      ]
     },
     "metadata": {},
     "output_type": "display_data"
    }
   ],
   "source": [
    "# Box Plot for visual comparison\n",
    "import matplotlib.pyplot as plt\n",
    "\n",
    "plt.figure(figsize=(10,6))\n",
    "sns.boxplot(x='sex', y='body_mass_g', data=gentoo_data)\n",
    "plt.title ('Body Mass Comparison between Male and Female Gentoo Penguins')\n",
    "plt.show()\n"
   ]
  },
  {
   "cell_type": "markdown",
   "metadata": {},
   "source": [
    "#### what more does this tell us\n",
    "\n",
    "Firsty the visual can instantly tell us our `t-test result` was correct and there there is a significant difference in body mass between male and female Gentoo penguins. Using the `describe` function we could see there was a difference in the mean weights of the groups with the male group have a hhigher mean by $805g$.\n",
    "\n",
    "Looking further at our `box plot` we can visually see this mean line (inside the box) is inline with what we got in the `describe` function. As the lines are at very different heights it further supports our conclusion that there is a significant difference in the weights of male compared to female Gentoo penguins. The boxes themselves are a similar width so we know the data sizes for each gender are close (61 Male & 58 female). The whiskers do not suggest there are any significant outliers which could skew the hypothesis.\n",
    "\n",
    "Doing this additional statistical analysis has complemented the `t-test` and provides further understanding of the data set."
   ]
  },
  {
   "cell_type": "code",
   "execution_count": 193,
   "metadata": {},
   "outputs": [
    {
     "data": {
      "image/png": "[encoded data removed]",
      "text/plain": [
       "<Figure size 800x500 with 1 Axes>"
      ]
     },
     "metadata": {},
     "output_type": "display_data"
    }
   ],
   "source": [
    "#Visually see the Standard Deviation\n",
    "male_std=gentoo_data[gentoo_data['sex'] == 'Male']['body_mass_g'].std()\n",
    "female_std=gentoo_data[gentoo_data['sex'] == 'Female']['body_mass_g'].std()\n",
    "\n",
    "plt.figure(figsize=(8,5))\n",
    "sns.barplot(x=['Male', 'Female'], y=[male_std, female_std], palette='pastel')\n",
    "plt.title ('Standard Deviation of Body Mass in Male and Female Gentoo Penguins')\n",
    "plt.ylabel('Standard Deviation (g)')\n",
    "plt.show()\n"
   ]
  },
  {
   "cell_type": "markdown",
   "metadata": {},
   "source": [
    "## Task 4 - Iris Data Set\n",
    "***\n",
    "\n",
    "Using the famous iris data set, suggest whether the setosa class is easily separable from the other two classes. \n",
    "Provide evidence for your answer.\n"
   ]
  },
  {
   "cell_type": "markdown",
   "metadata": {},
   "source": [
    "## Task 5 - Principal Component Analysis\n",
    "***\n",
    "\n",
    "Perform Principal Component Analysis on the iris data set, reducing the number of dimensions to two. \n",
    "Explain the purpose of the analysis and your results."
   ]
  },
  {
   "cell_type": "markdown",
   "metadata": {},
   "source": [
    "***\n",
    "## End"
   ]
  }
 ],
 "metadata": {
  "kernelspec": {
   "display_name": "base",
   "language": "python",
   "name": "python3"
  },
  "language_info": {
   "codemirror_mode": {
    "name": "ipython",
    "version": 3
   },
   "file_extension": ".py",
   "mimetype": "text/x-python",
   "name": "python",
   "nbconvert_exporter": "python",
   "pygments_lexer": "ipython3",
   "version": "3.9.13"
  },
  "orig_nbformat": 4
 },
 "nbformat": 4,
 "nbformat_minor": 2
}
