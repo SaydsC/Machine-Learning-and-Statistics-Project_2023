{
 "cells": [
  {
   "cell_type": "markdown",
   "metadata": {},
   "source": [
    "# Tasks\n",
    "\n",
    "Machine Learning and Statistics\n",
    "\n",
    "Winter 2023/2024\n",
    "\n",
    "By Sadie Concannon\n",
    "\n",
    "***"
   ]
  },
  {
   "cell_type": "markdown",
   "metadata": {},
   "source": [
    "## Task 1\n",
    "\n",
    "> Square roots are difficult to calculate. In Python, you typically use the power operator (a double asterisk) or a package such as `math`. In this task, you should write a function `sqrt(x)` to approximate the square root of a floating point number x without\n",
    "using the power operator or a package.\n",
    "\n",
    "> Rather, you should use the Newton’s method.2 Start with an 2 Square Roots via Newton’s Method. Start with an initial guess for the square root called $z_0$. You then repeatedly\n",
    "improve it using the following formula, until the difference between some previous guess $z_i$ and the next $z_{i+1}$ is less than some threshold, say 0.01.\n",
    "\n",
    "$$ z_{i+1} = z_i − \\frac{z_i × z_i − x}{2z_i} $$"
   ]
  },
  {
   "cell_type": "code",
   "execution_count": 24,
   "metadata": {},
   "outputs": [],
   "source": [
    "def sqrt(x):\n",
    "    # Initial guess for the square root.\n",
    "    z = x / 4.0\n",
    "\n",
    "    # Loop until we are accurate enough.\n",
    "    #while (z could be improved):\n",
    "    for i in range (1000):\n",
    "        # Newtons method for a better approximation\n",
    "        z = z - (((z * z) - x) / (2 * z))\n",
    "\n",
    "    # z should now be a good approximation for the square root\n",
    "    return z"
   ]
  },
  {
   "cell_type": "code",
   "execution_count": 25,
   "metadata": {},
   "outputs": [
    {
     "data": {
      "text/plain": [
       "1.7320508075688774"
      ]
     },
     "execution_count": 25,
     "metadata": {},
     "output_type": "execute_result"
    }
   ],
   "source": [
    "# Test the function on 3.\n",
    "sqrt(3)"
   ]
  },
  {
   "cell_type": "code",
   "execution_count": 26,
   "metadata": {},
   "outputs": [
    {
     "data": {
      "text/plain": [
       "1.7320508075688772"
      ]
     },
     "execution_count": 26,
     "metadata": {},
     "output_type": "execute_result"
    }
   ],
   "source": [
    "# Check Python's value for the square root of 3.\n",
    "3**0.5"
   ]
  },
  {
   "cell_type": "markdown",
   "metadata": {},
   "source": [
    "***\n",
    "## End"
   ]
  }
 ],
 "metadata": {
  "kernelspec": {
   "display_name": "base",
   "language": "python",
   "name": "python3"
  },
  "language_info": {
   "codemirror_mode": {
    "name": "ipython",
    "version": 3
   },
   "file_extension": ".py",
   "mimetype": "text/x-python",
   "name": "python",
   "nbconvert_exporter": "python",
   "pygments_lexer": "ipython3",
   "version": "3.9.13"
  },
  "orig_nbformat": 4
 },
 "nbformat": 4,
 "nbformat_minor": 2
}
